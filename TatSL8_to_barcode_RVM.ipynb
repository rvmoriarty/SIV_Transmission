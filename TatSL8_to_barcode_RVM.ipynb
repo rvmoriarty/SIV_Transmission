{
 "cells": [
  {
   "cell_type": "markdown",
   "metadata": {},
   "source": [
    "# Mapping, merging, and finding Barcode-TatSL8 Linkage\n",
    "#### Written by Ryan V. Moriarty, 10/8/21\n",
    "\n",
    "This jupyter notebook was modified from its original verison, written by Athena E. Golfinos, and available at: https://github.com/agolfinos/SIV_Transmission_Study. \n",
    "\n",
    "This pipeline takes fastq files that have been demultiplexed, and merges them using bbmerge, and maps them to the reference strain SIVmac239M (SIVmac239M is derived from SIVmac239, found with accession M22362 on Genbank) using bbmap. BBtools is available on SourceForge (https://sourceforge.net/projects/bbmap/). Once mapped, the barcode and TatSL8 nucleotide sequences are extracted from each read, and written to a .csv file for further processing using R. "
   ]
  },
  {
   "cell_type": "markdown",
   "metadata": {},
   "source": [
    "# Importing Packages"
   ]
  },
  {
   "cell_type": "code",
   "execution_count": null,
   "metadata": {},
   "outputs": [],
   "source": [
    "import sys\n",
    "import os\n",
    "import pandas as pd\n",
    "from Bio import SeqIO, Seq\n",
    "import subprocess\n",
    "import glob"
   ]
  },
  {
   "cell_type": "markdown",
   "metadata": {},
   "source": [
    "# Defining Variables"
   ]
  },
  {
   "cell_type": "code",
   "execution_count": null,
   "metadata": {},
   "outputs": [],
   "source": [
    "appRoot = \"/Users/ryanmoriarty/Documents/SIV_transmission_reanalysis_info/SIV_transmission_reanalysis/6196_files_linkage\"\n",
    "subfolders = [\"set1\", \"set2\"]\n",
    "ref = appRoot + \"/ref/M33262_barcode.fasta\"\n",
    "\n",
    "os.chdir(appRoot)"
   ]
  },
  {
   "cell_type": "markdown",
   "metadata": {},
   "source": [
    "## Merge paired Fastq files for each unique sample"
   ]
  },
  {
   "cell_type": "code",
   "execution_count": null,
   "metadata": {},
   "outputs": [],
   "source": [
    "for f in subfolders:\n",
    "    # Begin by switching to the subfolder \n",
    "    os.chdir(appRoot + \"/\" + f)\n",
    "    \n",
    "    # Identify each unique sample \n",
    "    sample_full_name = glob.glob(\"*.fastq\")\n",
    "    sample_uniques = list(set([s[:s.find(\"_R\")] for s in sample_full_name]))\n",
    "    \n",
    "    # Now that we have a list of unique samples present in that folder, find their R1 and R2, merge them using \n",
    "    # bbmerge, and map them using bbmap. \n",
    "    for s in sample_uniques:\n",
    "        r1 = os.getcwd() + \"/\" + glob.glob(s+\"*\")[0]\n",
    "        r2 = os.getcwd() + \"/\" + glob.glob(s+\"*\")[1]\n",
    "        merged = s + \".merged.fastq\"\n",
    "        \n",
    "        merge_cmd = [appRoot + '/bbmap/bbmerge.sh', \"in=\" + r1, \"in2=\" + r2, \"out=\" + merged, \"qtrim=t\",\n",
    "            \"trimq=20\"]\n",
    "        subprocess.call(merge_cmd)"
   ]
  },
  {
   "cell_type": "markdown",
   "metadata": {},
   "source": [
    "## Map merged Fastq files to the barcoded SIVmac239M reference"
   ]
  },
  {
   "cell_type": "code",
   "execution_count": null,
   "metadata": {},
   "outputs": [],
   "source": [
    "for f in subfolders:\n",
    "    # Begin by switching to the subfolder \n",
    "    os.chdir(appRoot + \"/\" + f)\n",
    "    # Because there may be other files in your folder, make sure you are only mapping the ones merged in the previous \n",
    "    # kernel \n",
    "    merged_files = glob.glob(\"*.merged.fastq\")\n",
    "    for m in merged_files:\n",
    "        # the name of your mapped files will come from the name of your merged, minus the 6 characters of \".fastq\"\n",
    "        mapped = m[:-6] + \".mapped.fastq\"\n",
    "        map_cmd = [appRoot + '/bbmap/bbmap.sh', \"ref=\" + ref, \"in=\" + m,  \n",
    "          \"outm=\" + mapped]\n",
    "        subprocess.call(map_cmd)"
   ]
  },
  {
   "cell_type": "markdown",
   "metadata": {},
   "source": [
    ".\n",
    "# Extracting Tat SL8 to Barcode Linkages\n",
    "\n",
    "#### This section is from the TatSL8_to_barcode.ipynb script found on Athena Golfinos's github, accessible through this link: https://github.com/agolfinos/SIV_Transmission_Study"
   ]
  },
  {
   "cell_type": "code",
   "execution_count": null,
   "metadata": {},
   "outputs": [],
   "source": [
    "allLinkageData = []\n",
    "#for the files in our out directory\n",
    "# If redoing analysis from this paper, split the two animals (r04103 and r10001) into two separate folders, as the\n",
    "# barcode is found on the reverse read in r04103. \n",
    "for file in os.listdir(appRoot): \n",
    "    allAmplicons = []\n",
    "    #ONLY take the files that end with fastq, there are also some stats files and hidden files that we don't want\n",
    "    if file.endswith(\".fastq\"): \n",
    "        print(file)\n",
    "        #using the Biopython parse we can read our fastq input\n",
    "        fastq_parser = SeqIO.parse(appRoot +\"/\"+ file, \"fastq\")\n",
    "        for seq_record in fastq_parser: \n",
    "            #Take the current sequence\n",
    "            sequence = str(seq_record.seq)\n",
    "            allAmplicons.append(sequence)\n",
    "            #only finding the amplicons that are long enough to be real      \n",
    "    for amplicon in allAmplicons: \n",
    "        if (len(amplicon)) >= 451: \n",
    "            #we are making a list to append our barcode/SL8 variant pair to\n",
    "            link = []\n",
    "            #this will give us our animal name in one column\n",
    "            link.append(file[0:6])\n",
    "            #this will give us our timepoint in one column\n",
    "            link.append(file.split(\"_\")[1])\n",
    "            #this will give us our rep number in one column\n",
    "            link.append(file.split(\"_\")[2][3:4])\n",
    "            \n",
    "            #this is necessary for r04103\n",
    "            #amplicon5 = Seq.reverse_complement(amplicon[1:])\n",
    "            \n",
    "            #pulling out the barcode from r04103\n",
    "            #tag = str(amplicon5[73:107])\n",
    "            \n",
    "            #pulling out the barcode from r10001\n",
    "            tag = str((amplicon[1:])[72:106])\n",
    "            \n",
    "            link.append(tag)\n",
    "            \n",
    "            #now we are pulling out the Tat SL8 sequence for r04103\n",
    "            #SL8 = str(amplicon5[339:363])\n",
    "            \n",
    "            #now we are pulling out the Tat SL8 sequence for r10001\n",
    "            SL8 = str((amplicon[1:])[338:362])\n",
    "            \n",
    "            link.append(SL8)\n",
    "            #now we want to translate SL8\n",
    "            SL8AA = Seq.translate(SL8)\n",
    "            #now we are adding the amino acid sequence of SL8 as the second part of the list\n",
    "            link.append(SL8AA)\n",
    "            allLinkageData.append(link)\n",
    "\n",
    "df = pd.DataFrame(allLinkageData, columns=[\"Animal ID\", \"Time Point\", \n",
    "                                           \"Rep Number\", \"SIVmac239M Barcode\", \n",
    "                                           \"Tat SL8 Nucleotide Sequence\",\n",
    "                                           \"Tat SL8 Amino Acid Sequence\"])\n",
    "linkage_df = df.groupby([\"Animal ID\", \"Time Point\", \"Rep Number\", \n",
    "                          \"SIVmac239M Barcode\", \n",
    "                          \"Tat SL8 Nucleotide Sequence\", \n",
    "                          \"Tat SL8 Amino Acid Sequence\"]).size().reset_index().rename(columns={0:'count'})\n",
    "linked_sorted_df = linkage_df.sort_values(by=['count'], ascending=False)\n",
    "print(linked_sorted_df)\n",
    "linked_sorted_df.to_csv(appRoot+ \"/\" + \"r04103_IR_TatSL8toBarcodeLinkage_sep.csv\")           "
   ]
  }
 ],
 "metadata": {
  "kernelspec": {
   "display_name": "Python 3",
   "language": "python",
   "name": "python3"
  },
  "language_info": {
   "codemirror_mode": {
    "name": "ipython",
    "version": 3
   },
   "file_extension": ".py",
   "mimetype": "text/x-python",
   "name": "python",
   "nbconvert_exporter": "python",
   "pygments_lexer": "ipython3",
   "version": "3.7.3"
  }
 },
 "nbformat": 4,
 "nbformat_minor": 2
}
